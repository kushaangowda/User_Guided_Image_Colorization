{
 "cells": [
  {
   "cell_type": "code",
   "execution_count": 6,
   "metadata": {},
   "outputs": [],
   "source": [
    "import h5py\n",
    "import numpy as np\n",
    "from sklearn.model_selection import train_test_split\n",
    "from torch.utils.data import Dataset, DataLoader\n",
    "import torch\n",
    "\n",
    "class ImageDataset(Dataset):\n",
    "    def __init__(self, file_path, indices):\n",
    "        self.file = h5py.File(file_path, 'r')\n",
    "        self.indices = indices\n",
    "\n",
    "    def __len__(self):\n",
    "        return len(self.indices)\n",
    "\n",
    "    def __getitem__(self, idx):\n",
    "        group_key = list(self.file)[self.indices[idx]]\n",
    "        data = self.file[group_key]\n",
    "        \n",
    "        input_color = torch.tensor(data['original'][:], dtype=torch.float32).permute(2, 0, 1) / 255.0  # Normalize\n",
    "        input_gray = torch.tensor(data['grayscale'][:], dtype=torch.float32).unsqueeze(0) / 255.0  # Normalize and add channel\n",
    "        output_a = torch.tensor(data['A_channel'][:], dtype=torch.float32)\n",
    "        output_b = torch.tensor(data['B_channel'][:], dtype=torch.float32)\n",
    "        \n",
    "        return (input_color, input_gray), (output_a, output_b)\n",
    "\n",
    "    def close(self):\n",
    "        self.file.close()"
   ]
  },
  {
   "cell_type": "code",
   "execution_count": 7,
   "metadata": {},
   "outputs": [],
   "source": [
    "def create_loaders(file_path, batch_size=32, test_size=0.2, random_seed=42):\n",
    "    with h5py.File(file_path, 'r') as file:\n",
    "        total_images = len(file)\n",
    "        indices = list(range(total_images))\n",
    "\n",
    "    print(len(indices))\n",
    "    \n",
    "    train_indices, test_indices = train_test_split(indices, test_size=test_size, random_state=random_seed)\n",
    "\n",
    "    print(len(train_indices))\n",
    "    print(len(test_indices))\n",
    "    \n",
    "    train_dataset = ImageDataset(file_path, train_indices)\n",
    "    test_dataset = ImageDataset(file_path, test_indices)\n",
    "    \n",
    "    train_loader = DataLoader(train_dataset, batch_size=batch_size, shuffle=True)\n",
    "    test_loader = DataLoader(test_dataset, batch_size=batch_size, shuffle=False)\n",
    "    \n",
    "    return train_loader, test_loader"
   ]
  },
  {
   "cell_type": "code",
   "execution_count": 10,
   "metadata": {},
   "outputs": [
    {
     "name": "stdout",
     "output_type": "stream",
     "text": [
      "5\n",
      "4\n",
      "1\n",
      "torch.Size([4, 3, 256, 256]) torch.Size([4, 1, 256, 256]) torch.Size([4, 256, 256]) torch.Size([4, 256, 256])\n"
     ]
    }
   ],
   "source": [
    "file_path = 'image_data.h5'\n",
    "train_loader, test_loader = create_loaders(file_path, batch_size=64)\n",
    "\n",
    "for (inputs_color, inputs_gray), (targets_a, targets_b) in train_loader:\n",
    "    print(inputs_color.shape, inputs_gray.shape, targets_a.shape, targets_b.shape)"
   ]
  }
 ],
 "metadata": {
  "kernelspec": {
   "display_name": "Python 3",
   "language": "python",
   "name": "python3"
  },
  "language_info": {
   "codemirror_mode": {
    "name": "ipython",
    "version": 3
   },
   "file_extension": ".py",
   "mimetype": "text/x-python",
   "name": "python",
   "nbconvert_exporter": "python",
   "pygments_lexer": "ipython3",
   "version": "3.10.4"
  }
 },
 "nbformat": 4,
 "nbformat_minor": 2
}
