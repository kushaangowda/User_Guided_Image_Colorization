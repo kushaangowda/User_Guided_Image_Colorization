{
 "cells": [
  {
   "cell_type": "code",
   "execution_count": 18,
   "metadata": {},
   "outputs": [
    {
     "name": "stderr",
     "output_type": "stream",
     "text": [
      "C:\\Users\\kusha\\AppData\\Local\\Temp\\ipykernel_19352\\469764863.py:17: DeprecationWarning: ANTIALIAS is deprecated and will be removed in Pillow 10 (2023-07-01). Use Resampling.LANCZOS instead.\n",
      "  img_resized = img.resize((256, 256), Image.ANTIALIAS)\n"
     ]
    }
   ],
   "source": [
    "import numpy as np\n",
    "from PIL import Image\n",
    "from skimage import color\n",
    "import h5py\n",
    "import os\n",
    "\n",
    "def process_images(image_folder):\n",
    "    with h5py.File('image_data.h5', 'w') as hf:\n",
    "        for image_filename in os.listdir(image_folder):\n",
    "            if image_filename.lower().endswith(('.png', '.jpg', '.jpeg', '.bmp')):\n",
    "                image_path = os.path.join(image_folder, image_filename)\n",
    "                \n",
    "                img = Image.open(image_path)\n",
    "                img_resized = img.resize((256, 256), Image.ANTIALIAS)\n",
    "                img_array = np.array(img_resized)\n",
    "                img_gray = np.array(img_resized.convert('L'))\n",
    "                img_lab = color.rgb2lab(img_resized)\n",
    "                img_a = img_lab[:, :, 1]\n",
    "                img_b = img_lab[:, :, 2]\n",
    "\n",
    "                a_bins = np.arange(-100, 100, 10)\n",
    "                b_bins = np.arange(-100, 100, 10)\n",
    "                img_a_binned = np.digitize(img_a, a_bins) - 1\n",
    "                img_b_binned = np.digitize(img_b, b_bins) - 1\n",
    "\n",
    "                group = hf.create_group(image_filename)\n",
    "                group.create_dataset('original', data=img_array)\n",
    "                group.create_dataset('grayscale', data=img_gray)\n",
    "                group.create_dataset('A_channel', data=img_a_binned)\n",
    "                group.create_dataset('B_channel', data=img_b_binned)\n",
    "\n",
    "process_images('./data/train2017/train2017')"
   ]
  },
  {
   "cell_type": "code",
   "execution_count": 20,
   "metadata": {},
   "outputs": [
    {
     "name": "stdout",
     "output_type": "stream",
     "text": [
      "Images in the file:\n",
      "000000000009.jpg\n",
      "(256, 256, 3)\n",
      "000000000025.jpg\n",
      "(256, 256, 3)\n",
      "000000000030.jpg\n",
      "(256, 256, 3)\n",
      "000000000034.jpg\n",
      "(256, 256, 3)\n",
      "000000000036.jpg\n",
      "(256, 256, 3)\n"
     ]
    }
   ],
   "source": [
    "import h5py\n",
    "import numpy as np\n",
    "from PIL import Image\n",
    "\n",
    "with h5py.File('image_data.h5', 'r') as file:\n",
    "    print(\"Images in the file:\")\n",
    "    for name in file:\n",
    "        print(name)\n",
    "        image_group = file[name]\n",
    "        \n",
    "        original = image_group['original'][:]\n",
    "        grayscale = image_group['grayscale'][:]\n",
    "        A_channel = image_group['A_channel'][:]\n",
    "        B_channel = image_group['B_channel'][:]\n",
    "\n",
    "        print(original.shape)"
   ]
  }
 ],
 "metadata": {
  "kernelspec": {
   "display_name": "Python 3",
   "language": "python",
   "name": "python3"
  },
  "language_info": {
   "codemirror_mode": {
    "name": "ipython",
    "version": 3
   },
   "file_extension": ".py",
   "mimetype": "text/x-python",
   "name": "python",
   "nbconvert_exporter": "python",
   "pygments_lexer": "ipython3",
   "version": "3.10.4"
  }
 },
 "nbformat": 4,
 "nbformat_minor": 2
}
